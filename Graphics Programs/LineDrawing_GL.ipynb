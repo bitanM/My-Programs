{
 "cells": [
  {
   "cell_type": "code",
   "execution_count": 3,
   "id": "ba63ac3b-cb61-4dd9-b4ee-a9a1edfbcb67",
   "metadata": {},
   "outputs": [],
   "source": [
    "import sys\n",
    "from OpenGL.GL import *\n",
    "from OpenGL.GLU import *\n",
    "from OpenGL.GLUT import *"
   ]
  },
  {
   "cell_type": "code",
   "execution_count": 4,
   "id": "be87bedb-f739-4b58-a68f-9c9c57ba2168",
   "metadata": {},
   "outputs": [],
   "source": [
    "def init():\n",
    "    glClearColor(0.0,0.0,0.0,0.0)\n",
    "    gluOrtho2D(0,500,0,500)"
   ]
  },
  {
   "cell_type": "code",
   "execution_count": 5,
   "id": "f041eb20-a118-4a77-880a-a820a9f7aa0a",
   "metadata": {},
   "outputs": [],
   "source": [
    "def plot(x, y):\n",
    "    glBegin(GL_POINTS)\n",
    "    glVertex2i(x, y)\n",
    "    glEnd()"
   ]
  },
  {
   "cell_type": "code",
   "execution_count": 6,
   "id": "269d16f3-71d3-4b50-b95a-b8e738ef5eea",
   "metadata": {},
   "outputs": [
    {
     "data": {
      "text/plain": [
       "'def draw_line(x1, y1, x2, y2):\\n    dx = x2-x1\\n    dy = y2-y1\\n    if abs(dx) > abs(dy):\\n        steps = abs(dx)\\n    else:\\n        steps = abs(dy)\\n    x_increment = dx / float(steps)\\n    y_increment = dy / float(steps)\\n    x = x1\\n    y = y1\\n    plot(round(x), round(y))\\n    for k in range(steps):\\n        x += x_increment\\n        y += y_increment\\n        plot(round(x), round(y))\\n    glFlush()'"
      ]
     },
     "execution_count": 6,
     "metadata": {},
     "output_type": "execute_result"
    }
   ],
   "source": [
    "def draw_line(x1, y1, x2, y2):\n",
    "    dx = x2-x1\n",
    "    dy = y2-y1\n",
    "    if abs(dx) > abs(dy):\n",
    "        steps = abs(dx)\n",
    "    else:\n",
    "        steps = abs(dy)\n",
    "    x_increment = dx / float(steps)\n",
    "    y_increment = dy / float(steps)\n",
    "    x = x1\n",
    "    y = y1\n",
    "    plot(round(x), round(y))\n",
    "    for k in range(steps):\n",
    "        x += x_increment\n",
    "        y += y_increment\n",
    "        plot(round(x), round(y))\n",
    "    glFlush()"
   ]
  },
  {
   "cell_type": "code",
   "execution_count": 7,
   "id": "62663565-50c6-45b4-ab90-95dfcb6bcd34",
   "metadata": {},
   "outputs": [],
   "source": [
    "def bresAlgo(x1, y1, x2, y2):\n",
    "    m_new = 2 * (y2 - y1) \n",
    "    slope_error_new = m_new - (x2 - x1) \n",
    "  \n",
    "    y = y1 \n",
    "    for x in range(x1, x2+1): \n",
    "  \n",
    "        plot(round(x), round(y))\n",
    "  \n",
    "        # Add slope to increment angle formed \n",
    "        slope_error_new = slope_error_new + m_new \n",
    "  \n",
    "        # Slope error reached limit, time to \n",
    "        # increment y and update slope error. \n",
    "        if (slope_error_new >= 0): \n",
    "            y = y+1\n",
    "            slope_error_new = slope_error_new - 2 * (x2 - x1) "
   ]
  },
  {
   "cell_type": "code",
   "execution_count": 8,
   "id": "6f99f3ec-5ba2-4932-b3e8-969bd045dbc2",
   "metadata": {},
   "outputs": [],
   "source": [
    "def display():\n",
    "    glClear(GL_COLOR_BUFFER_BIT)\n",
    "    glColor3f(1.0, 1.0, 1.0)\n",
    "    bresAlgo(50, 50, 350, 350)\n",
    "    glFlush()"
   ]
  },
  {
   "cell_type": "code",
   "execution_count": null,
   "id": "fbd0ee52-a15b-4315-824c-f3d8e9f18b1c",
   "metadata": {},
   "outputs": [],
   "source": [
    "glutInit()\n",
    "glutInitDisplayMode(GLUT_SINGLE | GLUT_RGB)\n",
    "glutInitWindowSize(500, 500)\n",
    "glutInitWindowPosition(100, 100)\n",
    "glutCreateWindow(\"DDA Line Drawing Algorithm\")\n",
    "glutDisplayFunc(display)\n",
    "init()\n",
    "glutMainLoop()"
   ]
  },
  {
   "cell_type": "code",
   "execution_count": null,
   "id": "70b92f46-fd12-4732-b511-5ebe40c3cd2d",
   "metadata": {},
   "outputs": [],
   "source": []
  }
 ],
 "metadata": {
  "kernelspec": {
   "display_name": "Python 3 (ipykernel)",
   "language": "python",
   "name": "python3"
  },
  "language_info": {
   "codemirror_mode": {
    "name": "ipython",
    "version": 3
   },
   "file_extension": ".py",
   "mimetype": "text/x-python",
   "name": "python",
   "nbconvert_exporter": "python",
   "pygments_lexer": "ipython3",
   "version": "3.10.12"
  }
 },
 "nbformat": 4,
 "nbformat_minor": 5
}
